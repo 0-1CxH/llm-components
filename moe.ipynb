{
 "cells": [
  {
   "cell_type": "code",
   "execution_count": 1,
   "id": "7cd20b23",
   "metadata": {},
   "outputs": [],
   "source": [
    "import torch\n",
    "from torch.nn import Module, ModuleList, Linear, ReLU"
   ]
  },
  {
   "cell_type": "markdown",
   "id": "68373054",
   "metadata": {},
   "source": [
    "## Simple MoE\n",
    "\n",
    "- gating: (hidden_size, num_experts), need softmac to get the prob\n",
    "- expert：like mlp (hidden->interm->hidden)\n",
    "- x(bs, seqlen, hidden_size), expert_weights (bs, seqlen, num_experts), each expert output (bs, seqlen, hidden_size), stack all output (bs, seqlen, num_experts, hidden_size)\n",
    "- no fancy mechanisms like top-k "
   ]
  },
  {
   "cell_type": "code",
   "execution_count": 2,
   "id": "8e510e70",
   "metadata": {},
   "outputs": [],
   "source": [
    "class SimpleGating(Module):\n",
    "    def __init__(self, hidden_size, num_experts):\n",
    "        super().__init__()\n",
    "        self.ln = Linear(hidden_size, num_experts)\n",
    "    \n",
    "    def forward(self, x):\n",
    "        return torch.softmax(self.ln(x), dim=-1)\n",
    "\n",
    "\n",
    "class Expert(Module):\n",
    "    def __init__(self, hidden_size, intermediate_size):\n",
    "        super().__init__()\n",
    "        self.up_proj = Linear(hidden_size, intermediate_size, bias=False)\n",
    "        self.down_proj = Linear(intermediate_size, hidden_size, bias=False)\n",
    "        self.act_fn = ReLU()\n",
    "    \n",
    "    def forward(self, x):\n",
    "        up = self.act_fn(self.up_proj(x))\n",
    "        return self.down_proj(up)\n",
    "    \n",
    "    \n",
    "class SimpleMoELayer(Module):\n",
    "    def __init__(self, hidden_size, intermediate_size, num_experts):\n",
    "        super().__init__()\n",
    "        self.gating = SimpleGating(hidden_size, num_experts)\n",
    "        self.experts = ModuleList([\n",
    "            Expert(hidden_size, intermediate_size)\n",
    "            for _ in range(num_experts)\n",
    "        ])\n",
    "    \n",
    "    def forward(self, x):\n",
    "        expert_weights = self.gating(x)\n",
    "        # print(f\"{expert_weights.shape=}, {expert_weights=}\")\n",
    "        x_processed_by_experts = [e(x).unsqueeze(2) for e in self.experts]\n",
    "        x_processed = torch.cat(x_processed_by_experts, dim=2)\n",
    "        # print(f\"{x_processed.shape=}, {x_processed=}\")\n",
    "        weighted_x = x_processed * expert_weights.unsqueeze(-1)\n",
    "        return weighted_x.sum(dim=2)\n",
    "        \n",
    "\n",
    "        "
   ]
  },
  {
   "cell_type": "code",
   "execution_count": 3,
   "id": "ea0234e7",
   "metadata": {},
   "outputs": [
    {
     "data": {
      "text/plain": [
       "torch.Size([8, 128, 32])"
      ]
     },
     "execution_count": 3,
     "metadata": {},
     "output_type": "execute_result"
    }
   ],
   "source": [
    "m = SimpleMoELayer(32, 256, 6)\n",
    "m(torch.rand(8, 128, 32)).shape"
   ]
  },
  {
   "cell_type": "code",
   "execution_count": null,
   "id": "de7bd43c",
   "metadata": {},
   "outputs": [],
   "source": []
  },
  {
   "cell_type": "code",
   "execution_count": null,
   "id": "cc81055f",
   "metadata": {},
   "outputs": [],
   "source": []
  }
 ],
 "metadata": {
  "kernelspec": {
   "display_name": "Python 3 (ipykernel)",
   "language": "python",
   "name": "python3"
  },
  "language_info": {
   "codemirror_mode": {
    "name": "ipython",
    "version": 3
   },
   "file_extension": ".py",
   "mimetype": "text/x-python",
   "name": "python",
   "nbconvert_exporter": "python",
   "pygments_lexer": "ipython3",
   "version": "3.9.13"
  }
 },
 "nbformat": 4,
 "nbformat_minor": 5
}
